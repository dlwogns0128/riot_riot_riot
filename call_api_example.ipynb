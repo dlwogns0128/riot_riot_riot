{
 "cells": [
  {
   "cell_type": "code",
   "execution_count": 1,
   "metadata": {},
   "outputs": [],
   "source": [
    "from riotwatcher import RiotWatcher, ApiError"
   ]
  },
  {
   "cell_type": "code",
   "execution_count": 9,
   "metadata": {},
   "outputs": [],
   "source": [
    "api_key = ''\n",
    "my_region = 'KR'\n",
    "sum_name = '줌짱줌짱'"
   ]
  },
  {
   "cell_type": "code",
   "execution_count": 10,
   "metadata": {},
   "outputs": [],
   "source": [
    "watcher = RiotWatcher(api_key)"
   ]
  },
  {
   "cell_type": "code",
   "execution_count": 11,
   "metadata": {},
   "outputs": [],
   "source": [
    "me = watcher.summoner.by_name(my_region, '줌짱줌짱')"
   ]
  },
  {
   "cell_type": "code",
   "execution_count": 37,
   "metadata": {},
   "outputs": [
    {
     "data": {
      "text/plain": [
       "dict_keys(['id', 'accountId', 'puuid', 'name', 'profileIconId', 'revisionDate', 'summonerLevel'])"
      ]
     },
     "execution_count": 37,
     "metadata": {},
     "output_type": "execute_result"
    }
   ],
   "source": [
    "me.keys()"
   ]
  },
  {
   "cell_type": "code",
   "execution_count": 13,
   "metadata": {},
   "outputs": [],
   "source": [
    "#get match list as a dict\n",
    "matches = watcher.match.matchlist_by_account(my_region, me['accountId'])"
   ]
  },
  {
   "cell_type": "code",
   "execution_count": 15,
   "metadata": {},
   "outputs": [
    {
     "data": {
      "text/plain": [
       "dict_keys(['matches', 'startIndex', 'endIndex', 'totalGames'])"
      ]
     },
     "execution_count": 15,
     "metadata": {},
     "output_type": "execute_result"
    }
   ],
   "source": [
    "matches.keys()"
   ]
  },
  {
   "cell_type": "code",
   "execution_count": 40,
   "metadata": {},
   "outputs": [
    {
     "name": "stdout",
     "output_type": "stream",
     "text": [
      "100 168\n"
     ]
    }
   ],
   "source": [
    "#그동안 해왔던 모든 게임 정보가 저장되어 있는지 확인\n",
    "print(len(matches['matches']),matches['totalGames'])"
   ]
  },
  {
   "cell_type": "code",
   "execution_count": 18,
   "metadata": {},
   "outputs": [],
   "source": [
    "#데이터를 보고 싶은 경기를 선택\n",
    "match = matches['matches'][0]"
   ]
  },
  {
   "cell_type": "code",
   "execution_count": 19,
   "metadata": {},
   "outputs": [
    {
     "data": {
      "text/plain": [
       "{'platformId': 'KR',\n",
       " 'gameId': 4071113675,\n",
       " 'champion': 516,\n",
       " 'queue': 430,\n",
       " 'season': 13,\n",
       " 'timestamp': 1578407735500,\n",
       " 'role': 'SOLO',\n",
       " 'lane': 'TOP'}"
      ]
     },
     "execution_count": 19,
     "metadata": {},
     "output_type": "execute_result"
    }
   ],
   "source": [
    "match"
   ]
  },
  {
   "cell_type": "code",
   "execution_count": 22,
   "metadata": {},
   "outputs": [],
   "source": [
    "match_res = watcher.match.by_id(my_region,match['gameId'])\n",
    "match_data = watcher.match.timeline_by_match(my_region,match['gameId'])"
   ]
  },
  {
   "cell_type": "code",
   "execution_count": 24,
   "metadata": {},
   "outputs": [
    {
     "data": {
      "text/plain": [
       "dict_keys(['gameId', 'platformId', 'gameCreation', 'gameDuration', 'queueId', 'mapId', 'seasonId', 'gameVersion', 'gameMode', 'gameType', 'teams', 'participants', 'participantIdentities'])"
      ]
     },
     "execution_count": 24,
     "metadata": {},
     "output_type": "execute_result"
    }
   ],
   "source": [
    "match_res.keys()"
   ]
  },
  {
   "cell_type": "code",
   "execution_count": 27,
   "metadata": {},
   "outputs": [
    {
     "data": {
      "text/plain": [
       "dict_keys(['frames', 'frameInterval'])"
      ]
     },
     "execution_count": 27,
     "metadata": {},
     "output_type": "execute_result"
    }
   ],
   "source": [
    "match_data.keys()"
   ]
  },
  {
   "cell_type": "code",
   "execution_count": 42,
   "metadata": {},
   "outputs": [
    {
     "data": {
      "text/plain": [
       "dict_keys(['participantFrames', 'events', 'timestamp'])"
      ]
     },
     "execution_count": 42,
     "metadata": {},
     "output_type": "execute_result"
    }
   ],
   "source": [
    "match_data['frames'][1].keys()"
   ]
  },
  {
   "cell_type": "code",
   "execution_count": 45,
   "metadata": {},
   "outputs": [
    {
     "data": {
      "text/plain": [
       "{'1': {'participantId': 1,\n",
       "  'position': {'x': 8079, 'y': 3501},\n",
       "  'currentGold': 0,\n",
       "  'totalGold': 500,\n",
       "  'level': 1,\n",
       "  'xp': 0,\n",
       "  'minionsKilled': 0,\n",
       "  'jungleMinionsKilled': 0,\n",
       "  'dominionScore': 0,\n",
       "  'teamScore': 0},\n",
       " '2': {'participantId': 2,\n",
       "  'position': {'x': 7313, 'y': 3610},\n",
       "  'currentGold': 0,\n",
       "  'totalGold': 500,\n",
       "  'level': 1,\n",
       "  'xp': 0,\n",
       "  'minionsKilled': 0,\n",
       "  'jungleMinionsKilled': 0,\n",
       "  'dominionScore': 0,\n",
       "  'teamScore': 0},\n",
       " '3': {'participantId': 3,\n",
       "  'position': {'x': 3383, 'y': 7823},\n",
       "  'currentGold': 0,\n",
       "  'totalGold': 500,\n",
       "  'level': 1,\n",
       "  'xp': 0,\n",
       "  'minionsKilled': 0,\n",
       "  'jungleMinionsKilled': 0,\n",
       "  'dominionScore': 0,\n",
       "  'teamScore': 0},\n",
       " '4': {'participantId': 4,\n",
       "  'position': {'x': 8399, 'y': 5633},\n",
       "  'currentGold': 20,\n",
       "  'totalGold': 500,\n",
       "  'level': 1,\n",
       "  'xp': 0,\n",
       "  'minionsKilled': 0,\n",
       "  'jungleMinionsKilled': 0,\n",
       "  'dominionScore': 0,\n",
       "  'teamScore': 0},\n",
       " '5': {'participantId': 5,\n",
       "  'position': {'x': 6085, 'y': 6322},\n",
       "  'currentGold': 0,\n",
       "  'totalGold': 500,\n",
       "  'level': 1,\n",
       "  'xp': 0,\n",
       "  'minionsKilled': 0,\n",
       "  'jungleMinionsKilled': 0,\n",
       "  'dominionScore': 0,\n",
       "  'teamScore': 0},\n",
       " '6': {'participantId': 6,\n",
       "  'position': {'x': 9796, 'y': 6399},\n",
       "  'currentGold': 0,\n",
       "  'totalGold': 500,\n",
       "  'level': 1,\n",
       "  'xp': 0,\n",
       "  'minionsKilled': 0,\n",
       "  'jungleMinionsKilled': 0,\n",
       "  'dominionScore': 0,\n",
       "  'teamScore': 0},\n",
       " '7': {'participantId': 7,\n",
       "  'position': {'x': 10999, 'y': 5287},\n",
       "  'currentGold': 0,\n",
       "  'totalGold': 500,\n",
       "  'level': 1,\n",
       "  'xp': 0,\n",
       "  'minionsKilled': 0,\n",
       "  'jungleMinionsKilled': 0,\n",
       "  'dominionScore': 0,\n",
       "  'teamScore': 0},\n",
       " '8': {'participantId': 8,\n",
       "  'position': {'x': 8730, 'y': 8736},\n",
       "  'currentGold': 0,\n",
       "  'totalGold': 500,\n",
       "  'level': 1,\n",
       "  'xp': 0,\n",
       "  'minionsKilled': 0,\n",
       "  'jungleMinionsKilled': 0,\n",
       "  'dominionScore': 0,\n",
       "  'teamScore': 0},\n",
       " '9': {'participantId': 9,\n",
       "  'position': {'x': 3904, 'y': 13502},\n",
       "  'currentGold': 0,\n",
       "  'totalGold': 500,\n",
       "  'level': 1,\n",
       "  'xp': 0,\n",
       "  'minionsKilled': 0,\n",
       "  'jungleMinionsKilled': 0,\n",
       "  'dominionScore': 0,\n",
       "  'teamScore': 0},\n",
       " '10': {'participantId': 10,\n",
       "  'position': {'x': 10543, 'y': 5267},\n",
       "  'currentGold': 0,\n",
       "  'totalGold': 500,\n",
       "  'level': 1,\n",
       "  'xp': 0,\n",
       "  'minionsKilled': 0,\n",
       "  'jungleMinionsKilled': 0,\n",
       "  'dominionScore': 0,\n",
       "  'teamScore': 0}}"
      ]
     },
     "execution_count": 45,
     "metadata": {},
     "output_type": "execute_result"
    }
   ],
   "source": [
    "match_data['frames'][1]['participantFrames']"
   ]
  },
  {
   "cell_type": "code",
   "execution_count": 43,
   "metadata": {},
   "outputs": [
    {
     "data": {
      "text/plain": [
       "[{'type': 'ITEM_PURCHASED',\n",
       "  'timestamp': 3270,\n",
       "  'participantId': 7,\n",
       "  'itemId': 3854},\n",
       " {'type': 'ITEM_PURCHASED',\n",
       "  'timestamp': 3633,\n",
       "  'participantId': 7,\n",
       "  'itemId': 2003},\n",
       " {'type': 'ITEM_PURCHASED',\n",
       "  'timestamp': 3831,\n",
       "  'participantId': 3,\n",
       "  'itemId': 1054},\n",
       " {'type': 'ITEM_PURCHASED',\n",
       "  'timestamp': 3930,\n",
       "  'participantId': 7,\n",
       "  'itemId': 2003},\n",
       " {'type': 'ITEM_PURCHASED',\n",
       "  'timestamp': 4194,\n",
       "  'participantId': 3,\n",
       "  'itemId': 2003},\n",
       " {'type': 'ITEM_PURCHASED',\n",
       "  'timestamp': 4425,\n",
       "  'participantId': 3,\n",
       "  'itemId': 3340},\n",
       " {'type': 'ITEM_PURCHASED',\n",
       "  'timestamp': 4524,\n",
       "  'participantId': 7,\n",
       "  'itemId': 3340},\n",
       " {'type': 'SKILL_LEVEL_UP',\n",
       "  'timestamp': 4623,\n",
       "  'participantId': 9,\n",
       "  'skillSlot': 1,\n",
       "  'levelUpType': 'NORMAL'},\n",
       " {'type': 'ITEM_PURCHASED',\n",
       "  'timestamp': 4722,\n",
       "  'participantId': 6,\n",
       "  'itemId': 1041},\n",
       " {'type': 'ITEM_PURCHASED',\n",
       "  'timestamp': 6372,\n",
       "  'participantId': 9,\n",
       "  'itemId': 1054},\n",
       " {'type': 'ITEM_PURCHASED',\n",
       "  'timestamp': 6438,\n",
       "  'participantId': 6,\n",
       "  'itemId': 2031},\n",
       " {'type': 'SKILL_LEVEL_UP',\n",
       "  'timestamp': 6537,\n",
       "  'participantId': 10,\n",
       "  'skillSlot': 1,\n",
       "  'levelUpType': 'NORMAL'},\n",
       " {'type': 'SKILL_LEVEL_UP',\n",
       "  'timestamp': 6669,\n",
       "  'participantId': 7,\n",
       "  'skillSlot': 1,\n",
       "  'levelUpType': 'NORMAL'},\n",
       " {'type': 'ITEM_PURCHASED',\n",
       "  'timestamp': 6834,\n",
       "  'participantId': 6,\n",
       "  'itemId': 3340},\n",
       " {'type': 'ITEM_PURCHASED',\n",
       "  'timestamp': 6900,\n",
       "  'participantId': 9,\n",
       "  'itemId': 2003},\n",
       " {'type': 'ITEM_PURCHASED',\n",
       "  'timestamp': 7461,\n",
       "  'participantId': 9,\n",
       "  'itemId': 3340},\n",
       " {'type': 'ITEM_PURCHASED',\n",
       "  'timestamp': 8088,\n",
       "  'participantId': 1,\n",
       "  'itemId': 3854},\n",
       " {'type': 'ITEM_PURCHASED',\n",
       "  'timestamp': 8715,\n",
       "  'participantId': 1,\n",
       "  'itemId': 2003},\n",
       " {'type': 'ITEM_PURCHASED',\n",
       "  'timestamp': 8880,\n",
       "  'participantId': 1,\n",
       "  'itemId': 2003},\n",
       " {'type': 'ITEM_PURCHASED',\n",
       "  'timestamp': 9276,\n",
       "  'participantId': 1,\n",
       "  'itemId': 3340},\n",
       " {'type': 'SKILL_LEVEL_UP',\n",
       "  'timestamp': 9474,\n",
       "  'participantId': 3,\n",
       "  'skillSlot': 1,\n",
       "  'levelUpType': 'NORMAL'},\n",
       " {'type': 'ITEM_PURCHASED',\n",
       "  'timestamp': 10035,\n",
       "  'participantId': 10,\n",
       "  'itemId': 1055},\n",
       " {'type': 'ITEM_PURCHASED',\n",
       "  'timestamp': 11388,\n",
       "  'participantId': 2,\n",
       "  'itemId': 1041},\n",
       " {'type': 'ITEM_PURCHASED',\n",
       "  'timestamp': 11751,\n",
       "  'participantId': 2,\n",
       "  'itemId': 2031},\n",
       " {'type': 'SKILL_LEVEL_UP',\n",
       "  'timestamp': 11883,\n",
       "  'participantId': 6,\n",
       "  'skillSlot': 2,\n",
       "  'levelUpType': 'NORMAL'},\n",
       " {'type': 'ITEM_PURCHASED',\n",
       "  'timestamp': 12114,\n",
       "  'participantId': 2,\n",
       "  'itemId': 3340},\n",
       " {'type': 'ITEM_PURCHASED',\n",
       "  'timestamp': 13116,\n",
       "  'participantId': 5,\n",
       "  'itemId': 3340},\n",
       " {'type': 'ITEM_PURCHASED',\n",
       "  'timestamp': 13314,\n",
       "  'participantId': 5,\n",
       "  'itemId': 2003},\n",
       " {'type': 'ITEM_PURCHASED',\n",
       "  'timestamp': 13545,\n",
       "  'participantId': 5,\n",
       "  'itemId': 1054},\n",
       " {'type': 'ITEM_UNDO',\n",
       "  'timestamp': 14568,\n",
       "  'participantId': 10,\n",
       "  'afterId': 0,\n",
       "  'beforeId': 1055},\n",
       " {'type': 'ITEM_PURCHASED',\n",
       "  'timestamp': 17043,\n",
       "  'participantId': 10,\n",
       "  'itemId': 1054},\n",
       " {'type': 'ITEM_PURCHASED',\n",
       "  'timestamp': 17703,\n",
       "  'participantId': 10,\n",
       "  'itemId': 2003},\n",
       " {'type': 'ITEM_PURCHASED',\n",
       "  'timestamp': 18462,\n",
       "  'participantId': 10,\n",
       "  'itemId': 3340},\n",
       " {'type': 'SKILL_LEVEL_UP',\n",
       "  'timestamp': 19750,\n",
       "  'participantId': 2,\n",
       "  'skillSlot': 1,\n",
       "  'levelUpType': 'NORMAL'},\n",
       " {'type': 'ITEM_PURCHASED',\n",
       "  'timestamp': 20674,\n",
       "  'participantId': 4,\n",
       "  'itemId': 2003},\n",
       " {'type': 'ITEM_PURCHASED',\n",
       "  'timestamp': 20839,\n",
       "  'participantId': 4,\n",
       "  'itemId': 2003},\n",
       " {'type': 'ITEM_PURCHASED',\n",
       "  'timestamp': 21202,\n",
       "  'participantId': 4,\n",
       "  'itemId': 1056},\n",
       " {'type': 'ITEM_UNDO',\n",
       "  'timestamp': 24172,\n",
       "  'participantId': 4,\n",
       "  'afterId': 0,\n",
       "  'beforeId': 1056},\n",
       " {'type': 'ITEM_UNDO',\n",
       "  'timestamp': 24304,\n",
       "  'participantId': 4,\n",
       "  'afterId': 0,\n",
       "  'beforeId': 2003},\n",
       " {'type': 'ITEM_PURCHASED',\n",
       "  'timestamp': 26218,\n",
       "  'participantId': 8,\n",
       "  'itemId': 1055},\n",
       " {'type': 'ITEM_PURCHASED',\n",
       "  'timestamp': 26745,\n",
       "  'participantId': 8,\n",
       "  'itemId': 3340},\n",
       " {'type': 'ITEM_PURCHASED',\n",
       "  'timestamp': 27141,\n",
       "  'participantId': 4,\n",
       "  'itemId': 1082},\n",
       " {'type': 'ITEM_PURCHASED',\n",
       "  'timestamp': 27240,\n",
       "  'participantId': 8,\n",
       "  'itemId': 2003},\n",
       " {'type': 'SKILL_LEVEL_UP',\n",
       "  'timestamp': 31299,\n",
       "  'participantId': 8,\n",
       "  'skillSlot': 1,\n",
       "  'levelUpType': 'NORMAL'},\n",
       " {'type': 'ITEM_SOLD', 'timestamp': 33774, 'participantId': 4, 'itemId': 2003},\n",
       " {'type': 'SKILL_LEVEL_UP',\n",
       "  'timestamp': 34269,\n",
       "  'participantId': 1,\n",
       "  'skillSlot': 1,\n",
       "  'levelUpType': 'NORMAL'},\n",
       " {'type': 'ITEM_PURCHASED',\n",
       "  'timestamp': 37041,\n",
       "  'participantId': 4,\n",
       "  'itemId': 2003},\n",
       " {'type': 'ITEM_PURCHASED',\n",
       "  'timestamp': 37866,\n",
       "  'participantId': 4,\n",
       "  'itemId': 2003},\n",
       " {'type': 'WARD_PLACED',\n",
       "  'timestamp': 47474,\n",
       "  'wardType': 'UNDEFINED',\n",
       "  'creatorId': 4},\n",
       " {'type': 'SKILL_LEVEL_UP',\n",
       "  'timestamp': 55493,\n",
       "  'participantId': 4,\n",
       "  'skillSlot': 1,\n",
       "  'levelUpType': 'NORMAL'}]"
      ]
     },
     "execution_count": 43,
     "metadata": {},
     "output_type": "execute_result"
    }
   ],
   "source": [
    "match_data['frames'][1]['events']"
   ]
  },
  {
   "cell_type": "code",
   "execution_count": null,
   "metadata": {},
   "outputs": [],
   "source": []
  }
 ],
 "metadata": {
  "kernelspec": {
   "display_name": "Python 3",
   "language": "python",
   "name": "python3"
  },
  "language_info": {
   "codemirror_mode": {
    "name": "ipython",
    "version": 3
   },
   "file_extension": ".py",
   "mimetype": "text/x-python",
   "name": "python",
   "nbconvert_exporter": "python",
   "pygments_lexer": "ipython3",
   "version": "3.6.10"
  }
 },
 "nbformat": 4,
 "nbformat_minor": 4
}
